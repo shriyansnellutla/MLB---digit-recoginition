{
  "nbformat": 4,
  "nbformat_minor": 0,
  "metadata": {
    "colab": {
      "provenance": []
    },
    "kernelspec": {
      "name": "python3",
      "display_name": "Python 3"
    },
    "language_info": {
      "name": "python"
    }
  },
  "cells": [
    {
      "cell_type": "markdown",
      "source": [],
      "metadata": {
        "id": "6BD7H9wouZjw"
      }
    },
    {
      "cell_type": "code",
      "execution_count": 18,
      "metadata": {
        "id": "Bs2ku1fnt2qv"
      },
      "outputs": [],
      "source": [
        "from torchvision import datasets\n",
        "from torchvision.transforms import ToTensor"
      ]
    },
    {
      "cell_type": "code",
      "source": [
        "train_data = datasets.MNIST(\n",
        "    root = 'data',\n",
        "    train = True,\n",
        "    download = True,\n",
        "    transform = ToTensor()\n",
        ")\n",
        "\n",
        "test_data = datasets.MNIST(\n",
        "    root = 'data',\n",
        "    train = False,\n",
        "    download = True,\n",
        "    transform = ToTensor()\n",
        ")"
      ],
      "metadata": {
        "id": "0OqlK-1iuimO"
      },
      "execution_count": 19,
      "outputs": []
    },
    {
      "cell_type": "code",
      "source": [
        "train_data"
      ],
      "metadata": {
        "colab": {
          "base_uri": "https://localhost:8080/"
        },
        "id": "Jvxfik_svETf",
        "outputId": "3ce9416a-1d89-4b55-a7b6-b60d560c5182"
      },
      "execution_count": 20,
      "outputs": [
        {
          "output_type": "execute_result",
          "data": {
            "text/plain": [
              "Dataset MNIST\n",
              "    Number of datapoints: 60000\n",
              "    Root location: data\n",
              "    Split: Train\n",
              "    StandardTransform\n",
              "Transform: ToTensor()"
            ]
          },
          "metadata": {},
          "execution_count": 20
        }
      ]
    },
    {
      "cell_type": "code",
      "source": [
        "test_data"
      ],
      "metadata": {
        "colab": {
          "base_uri": "https://localhost:8080/"
        },
        "id": "BosZu1lGvFeB",
        "outputId": "0afa8e61-c06e-49d7-c0ab-4ec58e351e29"
      },
      "execution_count": 21,
      "outputs": [
        {
          "output_type": "execute_result",
          "data": {
            "text/plain": [
              "Dataset MNIST\n",
              "    Number of datapoints: 10000\n",
              "    Root location: data\n",
              "    Split: Test\n",
              "    StandardTransform\n",
              "Transform: ToTensor()"
            ]
          },
          "metadata": {},
          "execution_count": 21
        }
      ]
    },
    {
      "cell_type": "code",
      "source": [
        "train_data.data.shape"
      ],
      "metadata": {
        "colab": {
          "base_uri": "https://localhost:8080/"
        },
        "id": "jWba0nb-vPis",
        "outputId": "f039836d-dfb5-4d86-9478-af9a53f7cb6b"
      },
      "execution_count": 22,
      "outputs": [
        {
          "output_type": "execute_result",
          "data": {
            "text/plain": [
              "torch.Size([60000, 28, 28])"
            ]
          },
          "metadata": {},
          "execution_count": 22
        }
      ]
    },
    {
      "cell_type": "code",
      "source": [
        "test_data.data.shape"
      ],
      "metadata": {
        "colab": {
          "base_uri": "https://localhost:8080/"
        },
        "id": "8I-uAhbCvZsT",
        "outputId": "77b391ff-1ff1-41ce-8be7-715dd273705b"
      },
      "execution_count": 23,
      "outputs": [
        {
          "output_type": "execute_result",
          "data": {
            "text/plain": [
              "torch.Size([10000, 28, 28])"
            ]
          },
          "metadata": {},
          "execution_count": 23
        }
      ]
    },
    {
      "cell_type": "code",
      "source": [
        "train_data.targets.shape"
      ],
      "metadata": {
        "colab": {
          "base_uri": "https://localhost:8080/"
        },
        "id": "8T0FuL0wvcA5",
        "outputId": "822e49e0-2415-47fa-b20f-f1756f87ef2b"
      },
      "execution_count": 24,
      "outputs": [
        {
          "output_type": "execute_result",
          "data": {
            "text/plain": [
              "torch.Size([60000])"
            ]
          },
          "metadata": {},
          "execution_count": 24
        }
      ]
    },
    {
      "cell_type": "code",
      "source": [
        "train_data.targets"
      ],
      "metadata": {
        "colab": {
          "base_uri": "https://localhost:8080/"
        },
        "id": "Vy7w9Zt3vgR9",
        "outputId": "834682fa-d950-4799-d60b-bcd8ed006fd9"
      },
      "execution_count": 25,
      "outputs": [
        {
          "output_type": "execute_result",
          "data": {
            "text/plain": [
              "tensor([5, 0, 4,  ..., 5, 6, 8])"
            ]
          },
          "metadata": {},
          "execution_count": 25
        }
      ]
    },
    {
      "cell_type": "code",
      "source": [
        "from torch.utils.data import DataLoader\n",
        "\n",
        "loaders = {\n",
        "\n",
        "    'train' : DataLoader(train_data, batch_size=100, shuffle=True , num_workers=1),\n",
        "    'test'  : DataLoader(test_data, batch_size=100, shuffle=True, num_workers=1),\n",
        "}"
      ],
      "metadata": {
        "id": "xIrpgrMHvjxp"
      },
      "execution_count": 26,
      "outputs": []
    },
    {
      "cell_type": "code",
      "source": [
        "import torch.nn as nn\n",
        "import torch.nn.functional as F\n",
        "import torch.optim as optim\n",
        "\n",
        "class CNN(nn.Module):\n",
        "\n",
        "  def __init__(self):\n",
        "    super(CNN, self).__init__()\n",
        "\n",
        "    self.conv1 = nn.Conv2d(1,10, kernel_size=5)\n",
        "    self.conv2 = nn.Conv2d(10,20, kernel_size = 5)\n",
        "    self.conv2_drop = nn.Dropout2d()\n",
        "    self.fc1 = nn.Linear(320,50)\n",
        "    self.fc2 = nn.Linear(50,10)\n",
        "\n",
        "\n",
        "  def forward(self,x):\n",
        "    x = F.relu(F.max_pool2d(self.conv1(x),2))\n",
        "    x = F.relu(F.max_pool2d(self.conv2_drop(self.conv2(x)),2))\n",
        "    x = x.view(-1,320)\n",
        "    x = F.relu(self.fc1(x))\n",
        "    x = F.dropout(x, training=self.training)\n",
        "    x = self.fc2(x)\n",
        "\n",
        "    return F.softmax(x)"
      ],
      "metadata": {
        "id": "rVf4CHy2wIsL"
      },
      "execution_count": 36,
      "outputs": []
    },
    {
      "cell_type": "code",
      "source": [
        "import torch\n",
        "\n",
        "device = torch.device(\"cuda\" if torch.cuda.is_available() else \"cpu\")\n",
        "\n",
        "model = CNN().to(device)\n",
        "\n",
        "optimizer = optim.Adam(model.parameters(), lr=0.001)\n",
        "\n",
        "loss_fn = nn.CrossEntropyLoss()\n",
        "\n",
        "def train(epoch):\n",
        "  model.train()\n",
        "  for batch_idx, (data, target) in enumerate(loaders['train']):\n",
        "    data, target = data.to(device), target.to(device)\n",
        "    optimizer.zero_grad()\n",
        "    output = model(data)\n",
        "    loss = loss_fn(output, target)\n",
        "    loss.backward()\n",
        "import torch\n",
        "\n",
        "device = torch.device(\"cuda\" if torch.cuda.is_available() else \"cpu\")\n",
        "\n",
        "model = CNN().to(device)\n",
        "\n",
        "optimizer = optim.Adam(model.parameters(), lr=0.001)\n",
        "\n",
        "loss_fn = nn.CrossEntropyLoss()\n",
        "\n",
        "def train(epoch):\n",
        "  model.train()\n",
        "  for batch_idx, (data, target) in enumerate(loaders['train']):\n",
        "    data, target = data.to(device), target.to(device)\n",
        "    optimizer.zero_grad()\n",
        "    output = model(data)\n",
        "    loss = loss_fn(output, target)\n",
        "    loss.backward()\n",
        "    optimizer.step()\n",
        "    if batch_idx % 20 == 0:\n",
        "       print(f'Train Epoch: {epoch} [{batch_idx * len(data)}/{len(loaders[\"train\"].dataset)} ({100. * batch_idx / len(loaders[\"train\"]):.0f}%)]\\tLoss: {loss.item():.6f}')\n",
        "\n",
        "def test():\n",
        "    model.eval()\n",
        "\n",
        "    test_loss = 0\n",
        "    correct = 0\n",
        "\n",
        "    with torch.no_grad():\n",
        "      for data, target in loaders[\"test\"]:\n",
        "        data, target = data.to(device), target.to(device)\n",
        "        output = model(data)\n",
        "        test_loss += loss_fn(output, target).item()\n",
        "        pred = output.data.argmax(dim=1, keepdim=True)\n",
        "        correct += pred.eq(target.data.view_as(pred)).sum().item()\n",
        "\n",
        "    test_loss /= len(loaders[\"test\"].dataset)\n",
        "    print(f'\\nTest set: Average loss: {test_loss:.4f}, Accuracy: {correct}/{len(loaders[\"test\"].dataset)} ({100. * correct / len(loaders[\"test\"].dataset):.0f}%)\\n')\n"
      ],
      "metadata": {
        "id": "H0RxAn_AxlPS"
      },
      "execution_count": 40,
      "outputs": []
    },
    {
      "cell_type": "code",
      "source": [
        "for epoch in range(1,11):\n",
        "  train(epoch)\n",
        "  test()"
      ],
      "metadata": {
        "colab": {
          "base_uri": "https://localhost:8080/"
        },
        "id": "cDqO9W9J2owj",
        "outputId": "58beed82-486a-4053-874f-e6b8cc44458e"
      },
      "execution_count": 41,
      "outputs": [
        {
          "output_type": "stream",
          "name": "stderr",
          "text": [
            "<ipython-input-36-2032d6ead198>:25: UserWarning: Implicit dimension choice for softmax has been deprecated. Change the call to include dim=X as an argument.\n",
            "  return F.softmax(x)\n"
          ]
        },
        {
          "output_type": "stream",
          "name": "stdout",
          "text": [
            "Train Epoch: 1 [0/60000 (0%)]\tLoss: 2.302525\n",
            "Train Epoch: 1 [2000/60000 (3%)]\tLoss: 2.271617\n",
            "Train Epoch: 1 [4000/60000 (7%)]\tLoss: 2.191678\n",
            "Train Epoch: 1 [6000/60000 (10%)]\tLoss: 2.071195\n",
            "Train Epoch: 1 [8000/60000 (13%)]\tLoss: 1.985163\n",
            "Train Epoch: 1 [10000/60000 (17%)]\tLoss: 1.853433\n",
            "Train Epoch: 1 [12000/60000 (20%)]\tLoss: 1.849596\n",
            "Train Epoch: 1 [14000/60000 (23%)]\tLoss: 1.738741\n",
            "Train Epoch: 1 [16000/60000 (27%)]\tLoss: 1.774987\n",
            "Train Epoch: 1 [18000/60000 (30%)]\tLoss: 1.722113\n",
            "Train Epoch: 1 [20000/60000 (33%)]\tLoss: 1.707965\n",
            "Train Epoch: 1 [22000/60000 (37%)]\tLoss: 1.641317\n",
            "Train Epoch: 1 [24000/60000 (40%)]\tLoss: 1.684654\n",
            "Train Epoch: 1 [26000/60000 (43%)]\tLoss: 1.680161\n",
            "Train Epoch: 1 [28000/60000 (47%)]\tLoss: 1.653698\n",
            "Train Epoch: 1 [30000/60000 (50%)]\tLoss: 1.668846\n",
            "Train Epoch: 1 [32000/60000 (53%)]\tLoss: 1.663310\n",
            "Train Epoch: 1 [34000/60000 (57%)]\tLoss: 1.631778\n",
            "Train Epoch: 1 [36000/60000 (60%)]\tLoss: 1.659633\n",
            "Train Epoch: 1 [38000/60000 (63%)]\tLoss: 1.630456\n",
            "Train Epoch: 1 [40000/60000 (67%)]\tLoss: 1.583486\n",
            "Train Epoch: 1 [42000/60000 (70%)]\tLoss: 1.616670\n",
            "Train Epoch: 1 [44000/60000 (73%)]\tLoss: 1.631177\n",
            "Train Epoch: 1 [46000/60000 (77%)]\tLoss: 1.613226\n",
            "Train Epoch: 1 [48000/60000 (80%)]\tLoss: 1.591782\n",
            "Train Epoch: 1 [50000/60000 (83%)]\tLoss: 1.622722\n",
            "Train Epoch: 1 [52000/60000 (87%)]\tLoss: 1.567837\n",
            "Train Epoch: 1 [54000/60000 (90%)]\tLoss: 1.598904\n",
            "Train Epoch: 1 [56000/60000 (93%)]\tLoss: 1.637993\n",
            "Train Epoch: 1 [58000/60000 (97%)]\tLoss: 1.564543\n",
            "\n",
            "Test set: Average loss: 0.0153, Accuracy: 9332/10000 (93%)\n",
            "\n",
            "Train Epoch: 2 [0/60000 (0%)]\tLoss: 1.566343\n",
            "Train Epoch: 2 [2000/60000 (3%)]\tLoss: 1.566754\n",
            "Train Epoch: 2 [4000/60000 (7%)]\tLoss: 1.567489\n",
            "Train Epoch: 2 [6000/60000 (10%)]\tLoss: 1.585707\n",
            "Train Epoch: 2 [8000/60000 (13%)]\tLoss: 1.609935\n",
            "Train Epoch: 2 [10000/60000 (17%)]\tLoss: 1.596525\n",
            "Train Epoch: 2 [12000/60000 (20%)]\tLoss: 1.605789\n",
            "Train Epoch: 2 [14000/60000 (23%)]\tLoss: 1.564467\n",
            "Train Epoch: 2 [16000/60000 (27%)]\tLoss: 1.569242\n",
            "Train Epoch: 2 [18000/60000 (30%)]\tLoss: 1.588900\n",
            "Train Epoch: 2 [20000/60000 (33%)]\tLoss: 1.569215\n",
            "Train Epoch: 2 [22000/60000 (37%)]\tLoss: 1.614246\n",
            "Train Epoch: 2 [24000/60000 (40%)]\tLoss: 1.592455\n",
            "Train Epoch: 2 [26000/60000 (43%)]\tLoss: 1.546235\n",
            "Train Epoch: 2 [28000/60000 (47%)]\tLoss: 1.603044\n",
            "Train Epoch: 2 [30000/60000 (50%)]\tLoss: 1.574523\n",
            "Train Epoch: 2 [32000/60000 (53%)]\tLoss: 1.544915\n",
            "Train Epoch: 2 [34000/60000 (57%)]\tLoss: 1.631322\n",
            "Train Epoch: 2 [36000/60000 (60%)]\tLoss: 1.580602\n",
            "Train Epoch: 2 [38000/60000 (63%)]\tLoss: 1.560704\n",
            "Train Epoch: 2 [40000/60000 (67%)]\tLoss: 1.633882\n",
            "Train Epoch: 2 [42000/60000 (70%)]\tLoss: 1.607790\n",
            "Train Epoch: 2 [44000/60000 (73%)]\tLoss: 1.556309\n",
            "Train Epoch: 2 [46000/60000 (77%)]\tLoss: 1.608896\n",
            "Train Epoch: 2 [48000/60000 (80%)]\tLoss: 1.608641\n",
            "Train Epoch: 2 [50000/60000 (83%)]\tLoss: 1.536945\n",
            "Train Epoch: 2 [52000/60000 (87%)]\tLoss: 1.540961\n",
            "Train Epoch: 2 [54000/60000 (90%)]\tLoss: 1.534799\n",
            "Train Epoch: 2 [56000/60000 (93%)]\tLoss: 1.602069\n",
            "Train Epoch: 2 [58000/60000 (97%)]\tLoss: 1.555712\n",
            "\n",
            "Test set: Average loss: 0.0151, Accuracy: 9498/10000 (95%)\n",
            "\n",
            "Train Epoch: 3 [0/60000 (0%)]\tLoss: 1.539738\n",
            "Train Epoch: 3 [2000/60000 (3%)]\tLoss: 1.556833\n",
            "Train Epoch: 3 [4000/60000 (7%)]\tLoss: 1.514465\n",
            "Train Epoch: 3 [6000/60000 (10%)]\tLoss: 1.554895\n",
            "Train Epoch: 3 [8000/60000 (13%)]\tLoss: 1.547325\n",
            "Train Epoch: 3 [10000/60000 (17%)]\tLoss: 1.571016\n",
            "Train Epoch: 3 [12000/60000 (20%)]\tLoss: 1.546319\n",
            "Train Epoch: 3 [14000/60000 (23%)]\tLoss: 1.601330\n",
            "Train Epoch: 3 [16000/60000 (27%)]\tLoss: 1.531368\n",
            "Train Epoch: 3 [18000/60000 (30%)]\tLoss: 1.558641\n",
            "Train Epoch: 3 [20000/60000 (33%)]\tLoss: 1.582317\n",
            "Train Epoch: 3 [22000/60000 (37%)]\tLoss: 1.565483\n",
            "Train Epoch: 3 [24000/60000 (40%)]\tLoss: 1.527873\n",
            "Train Epoch: 3 [26000/60000 (43%)]\tLoss: 1.582717\n",
            "Train Epoch: 3 [28000/60000 (47%)]\tLoss: 1.571053\n",
            "Train Epoch: 3 [30000/60000 (50%)]\tLoss: 1.570854\n",
            "Train Epoch: 3 [32000/60000 (53%)]\tLoss: 1.568363\n",
            "Train Epoch: 3 [34000/60000 (57%)]\tLoss: 1.567465\n",
            "Train Epoch: 3 [36000/60000 (60%)]\tLoss: 1.542848\n",
            "Train Epoch: 3 [38000/60000 (63%)]\tLoss: 1.600029\n",
            "Train Epoch: 3 [40000/60000 (67%)]\tLoss: 1.595379\n",
            "Train Epoch: 3 [42000/60000 (70%)]\tLoss: 1.554796\n",
            "Train Epoch: 3 [44000/60000 (73%)]\tLoss: 1.559393\n",
            "Train Epoch: 3 [46000/60000 (77%)]\tLoss: 1.520456\n",
            "Train Epoch: 3 [48000/60000 (80%)]\tLoss: 1.558602\n",
            "Train Epoch: 3 [50000/60000 (83%)]\tLoss: 1.541334\n",
            "Train Epoch: 3 [52000/60000 (87%)]\tLoss: 1.576871\n",
            "Train Epoch: 3 [54000/60000 (90%)]\tLoss: 1.526320\n",
            "Train Epoch: 3 [56000/60000 (93%)]\tLoss: 1.620685\n",
            "Train Epoch: 3 [58000/60000 (97%)]\tLoss: 1.555423\n",
            "\n",
            "Test set: Average loss: 0.0150, Accuracy: 9595/10000 (96%)\n",
            "\n",
            "Train Epoch: 4 [0/60000 (0%)]\tLoss: 1.582551\n",
            "Train Epoch: 4 [2000/60000 (3%)]\tLoss: 1.586514\n",
            "Train Epoch: 4 [4000/60000 (7%)]\tLoss: 1.527679\n",
            "Train Epoch: 4 [6000/60000 (10%)]\tLoss: 1.530340\n",
            "Train Epoch: 4 [8000/60000 (13%)]\tLoss: 1.620314\n",
            "Train Epoch: 4 [10000/60000 (17%)]\tLoss: 1.523496\n",
            "Train Epoch: 4 [12000/60000 (20%)]\tLoss: 1.565470\n",
            "Train Epoch: 4 [14000/60000 (23%)]\tLoss: 1.569502\n",
            "Train Epoch: 4 [16000/60000 (27%)]\tLoss: 1.538570\n",
            "Train Epoch: 4 [18000/60000 (30%)]\tLoss: 1.513969\n",
            "Train Epoch: 4 [20000/60000 (33%)]\tLoss: 1.515332\n",
            "Train Epoch: 4 [22000/60000 (37%)]\tLoss: 1.534703\n",
            "Train Epoch: 4 [24000/60000 (40%)]\tLoss: 1.561234\n",
            "Train Epoch: 4 [26000/60000 (43%)]\tLoss: 1.602077\n",
            "Train Epoch: 4 [28000/60000 (47%)]\tLoss: 1.550458\n",
            "Train Epoch: 4 [30000/60000 (50%)]\tLoss: 1.552999\n",
            "Train Epoch: 4 [32000/60000 (53%)]\tLoss: 1.566718\n",
            "Train Epoch: 4 [34000/60000 (57%)]\tLoss: 1.519591\n",
            "Train Epoch: 4 [36000/60000 (60%)]\tLoss: 1.554444\n",
            "Train Epoch: 4 [38000/60000 (63%)]\tLoss: 1.553003\n",
            "Train Epoch: 4 [40000/60000 (67%)]\tLoss: 1.582305\n",
            "Train Epoch: 4 [42000/60000 (70%)]\tLoss: 1.520971\n",
            "Train Epoch: 4 [44000/60000 (73%)]\tLoss: 1.554649\n",
            "Train Epoch: 4 [46000/60000 (77%)]\tLoss: 1.530720\n",
            "Train Epoch: 4 [48000/60000 (80%)]\tLoss: 1.568138\n",
            "Train Epoch: 4 [50000/60000 (83%)]\tLoss: 1.576416\n",
            "Train Epoch: 4 [52000/60000 (87%)]\tLoss: 1.508954\n",
            "Train Epoch: 4 [54000/60000 (90%)]\tLoss: 1.540395\n",
            "Train Epoch: 4 [56000/60000 (93%)]\tLoss: 1.522460\n",
            "Train Epoch: 4 [58000/60000 (97%)]\tLoss: 1.570112\n",
            "\n",
            "Test set: Average loss: 0.0150, Accuracy: 9628/10000 (96%)\n",
            "\n",
            "Train Epoch: 5 [0/60000 (0%)]\tLoss: 1.556332\n",
            "Train Epoch: 5 [2000/60000 (3%)]\tLoss: 1.582709\n",
            "Train Epoch: 5 [4000/60000 (7%)]\tLoss: 1.540740\n",
            "Train Epoch: 5 [6000/60000 (10%)]\tLoss: 1.541203\n",
            "Train Epoch: 5 [8000/60000 (13%)]\tLoss: 1.539110\n",
            "Train Epoch: 5 [10000/60000 (17%)]\tLoss: 1.508379\n",
            "Train Epoch: 5 [12000/60000 (20%)]\tLoss: 1.513273\n",
            "Train Epoch: 5 [14000/60000 (23%)]\tLoss: 1.535807\n",
            "Train Epoch: 5 [16000/60000 (27%)]\tLoss: 1.543528\n",
            "Train Epoch: 5 [18000/60000 (30%)]\tLoss: 1.520007\n",
            "Train Epoch: 5 [20000/60000 (33%)]\tLoss: 1.508766\n",
            "Train Epoch: 5 [22000/60000 (37%)]\tLoss: 1.561008\n",
            "Train Epoch: 5 [24000/60000 (40%)]\tLoss: 1.559044\n",
            "Train Epoch: 5 [26000/60000 (43%)]\tLoss: 1.523672\n",
            "Train Epoch: 5 [28000/60000 (47%)]\tLoss: 1.547990\n",
            "Train Epoch: 5 [30000/60000 (50%)]\tLoss: 1.559664\n",
            "Train Epoch: 5 [32000/60000 (53%)]\tLoss: 1.557577\n",
            "Train Epoch: 5 [34000/60000 (57%)]\tLoss: 1.534418\n",
            "Train Epoch: 5 [36000/60000 (60%)]\tLoss: 1.539905\n",
            "Train Epoch: 5 [38000/60000 (63%)]\tLoss: 1.497070\n",
            "Train Epoch: 5 [40000/60000 (67%)]\tLoss: 1.579111\n",
            "Train Epoch: 5 [42000/60000 (70%)]\tLoss: 1.582875\n",
            "Train Epoch: 5 [44000/60000 (73%)]\tLoss: 1.574450\n",
            "Train Epoch: 5 [46000/60000 (77%)]\tLoss: 1.514148\n",
            "Train Epoch: 5 [48000/60000 (80%)]\tLoss: 1.556371\n",
            "Train Epoch: 5 [50000/60000 (83%)]\tLoss: 1.538873\n",
            "Train Epoch: 5 [52000/60000 (87%)]\tLoss: 1.553056\n",
            "Train Epoch: 5 [54000/60000 (90%)]\tLoss: 1.551987\n",
            "Train Epoch: 5 [56000/60000 (93%)]\tLoss: 1.581700\n",
            "Train Epoch: 5 [58000/60000 (97%)]\tLoss: 1.542269\n",
            "\n",
            "Test set: Average loss: 0.0149, Accuracy: 9684/10000 (97%)\n",
            "\n",
            "Train Epoch: 6 [0/60000 (0%)]\tLoss: 1.588141\n",
            "Train Epoch: 6 [2000/60000 (3%)]\tLoss: 1.516212\n",
            "Train Epoch: 6 [4000/60000 (7%)]\tLoss: 1.534010\n",
            "Train Epoch: 6 [6000/60000 (10%)]\tLoss: 1.534087\n",
            "Train Epoch: 6 [8000/60000 (13%)]\tLoss: 1.554945\n",
            "Train Epoch: 6 [10000/60000 (17%)]\tLoss: 1.520601\n",
            "Train Epoch: 6 [12000/60000 (20%)]\tLoss: 1.512091\n",
            "Train Epoch: 6 [14000/60000 (23%)]\tLoss: 1.571514\n",
            "Train Epoch: 6 [16000/60000 (27%)]\tLoss: 1.571772\n",
            "Train Epoch: 6 [18000/60000 (30%)]\tLoss: 1.538108\n",
            "Train Epoch: 6 [20000/60000 (33%)]\tLoss: 1.522958\n",
            "Train Epoch: 6 [22000/60000 (37%)]\tLoss: 1.511804\n",
            "Train Epoch: 6 [24000/60000 (40%)]\tLoss: 1.535098\n",
            "Train Epoch: 6 [26000/60000 (43%)]\tLoss: 1.523205\n",
            "Train Epoch: 6 [28000/60000 (47%)]\tLoss: 1.561489\n",
            "Train Epoch: 6 [30000/60000 (50%)]\tLoss: 1.572278\n",
            "Train Epoch: 6 [32000/60000 (53%)]\tLoss: 1.519628\n",
            "Train Epoch: 6 [34000/60000 (57%)]\tLoss: 1.559851\n",
            "Train Epoch: 6 [36000/60000 (60%)]\tLoss: 1.600237\n",
            "Train Epoch: 6 [38000/60000 (63%)]\tLoss: 1.517868\n",
            "Train Epoch: 6 [40000/60000 (67%)]\tLoss: 1.528783\n",
            "Train Epoch: 6 [42000/60000 (70%)]\tLoss: 1.559229\n",
            "Train Epoch: 6 [44000/60000 (73%)]\tLoss: 1.507269\n",
            "Train Epoch: 6 [46000/60000 (77%)]\tLoss: 1.502927\n",
            "Train Epoch: 6 [48000/60000 (80%)]\tLoss: 1.561165\n",
            "Train Epoch: 6 [50000/60000 (83%)]\tLoss: 1.513615\n",
            "Train Epoch: 6 [52000/60000 (87%)]\tLoss: 1.574082\n",
            "Train Epoch: 6 [54000/60000 (90%)]\tLoss: 1.520210\n",
            "Train Epoch: 6 [56000/60000 (93%)]\tLoss: 1.535047\n",
            "Train Epoch: 6 [58000/60000 (97%)]\tLoss: 1.532175\n",
            "\n",
            "Test set: Average loss: 0.0149, Accuracy: 9694/10000 (97%)\n",
            "\n",
            "Train Epoch: 7 [0/60000 (0%)]\tLoss: 1.519831\n",
            "Train Epoch: 7 [2000/60000 (3%)]\tLoss: 1.503064\n",
            "Train Epoch: 7 [4000/60000 (7%)]\tLoss: 1.573174\n",
            "Train Epoch: 7 [6000/60000 (10%)]\tLoss: 1.549981\n",
            "Train Epoch: 7 [8000/60000 (13%)]\tLoss: 1.578105\n",
            "Train Epoch: 7 [10000/60000 (17%)]\tLoss: 1.549706\n",
            "Train Epoch: 7 [12000/60000 (20%)]\tLoss: 1.506399\n",
            "Train Epoch: 7 [14000/60000 (23%)]\tLoss: 1.542001\n",
            "Train Epoch: 7 [16000/60000 (27%)]\tLoss: 1.556624\n",
            "Train Epoch: 7 [18000/60000 (30%)]\tLoss: 1.517368\n",
            "Train Epoch: 7 [20000/60000 (33%)]\tLoss: 1.528311\n",
            "Train Epoch: 7 [22000/60000 (37%)]\tLoss: 1.544468\n",
            "Train Epoch: 7 [24000/60000 (40%)]\tLoss: 1.533939\n",
            "Train Epoch: 7 [26000/60000 (43%)]\tLoss: 1.561434\n",
            "Train Epoch: 7 [28000/60000 (47%)]\tLoss: 1.559673\n",
            "Train Epoch: 7 [30000/60000 (50%)]\tLoss: 1.519074\n",
            "Train Epoch: 7 [32000/60000 (53%)]\tLoss: 1.496976\n",
            "Train Epoch: 7 [34000/60000 (57%)]\tLoss: 1.497949\n",
            "Train Epoch: 7 [36000/60000 (60%)]\tLoss: 1.548426\n",
            "Train Epoch: 7 [38000/60000 (63%)]\tLoss: 1.546878\n",
            "Train Epoch: 7 [40000/60000 (67%)]\tLoss: 1.506904\n",
            "Train Epoch: 7 [42000/60000 (70%)]\tLoss: 1.519749\n",
            "Train Epoch: 7 [44000/60000 (73%)]\tLoss: 1.513558\n",
            "Train Epoch: 7 [46000/60000 (77%)]\tLoss: 1.553022\n",
            "Train Epoch: 7 [48000/60000 (80%)]\tLoss: 1.508152\n",
            "Train Epoch: 7 [50000/60000 (83%)]\tLoss: 1.539114\n",
            "Train Epoch: 7 [52000/60000 (87%)]\tLoss: 1.533334\n",
            "Train Epoch: 7 [54000/60000 (90%)]\tLoss: 1.491749\n",
            "Train Epoch: 7 [56000/60000 (93%)]\tLoss: 1.560178\n",
            "Train Epoch: 7 [58000/60000 (97%)]\tLoss: 1.611656\n",
            "\n",
            "Test set: Average loss: 0.0149, Accuracy: 9701/10000 (97%)\n",
            "\n",
            "Train Epoch: 8 [0/60000 (0%)]\tLoss: 1.511757\n",
            "Train Epoch: 8 [2000/60000 (3%)]\tLoss: 1.564291\n",
            "Train Epoch: 8 [4000/60000 (7%)]\tLoss: 1.517290\n",
            "Train Epoch: 8 [6000/60000 (10%)]\tLoss: 1.558849\n",
            "Train Epoch: 8 [8000/60000 (13%)]\tLoss: 1.543752\n",
            "Train Epoch: 8 [10000/60000 (17%)]\tLoss: 1.511572\n",
            "Train Epoch: 8 [12000/60000 (20%)]\tLoss: 1.510522\n",
            "Train Epoch: 8 [14000/60000 (23%)]\tLoss: 1.567520\n",
            "Train Epoch: 8 [16000/60000 (27%)]\tLoss: 1.535892\n",
            "Train Epoch: 8 [18000/60000 (30%)]\tLoss: 1.583512\n",
            "Train Epoch: 8 [20000/60000 (33%)]\tLoss: 1.520770\n",
            "Train Epoch: 8 [22000/60000 (37%)]\tLoss: 1.508982\n",
            "Train Epoch: 8 [24000/60000 (40%)]\tLoss: 1.515904\n",
            "Train Epoch: 8 [26000/60000 (43%)]\tLoss: 1.524698\n",
            "Train Epoch: 8 [28000/60000 (47%)]\tLoss: 1.517674\n",
            "Train Epoch: 8 [30000/60000 (50%)]\tLoss: 1.515921\n",
            "Train Epoch: 8 [32000/60000 (53%)]\tLoss: 1.613883\n",
            "Train Epoch: 8 [34000/60000 (57%)]\tLoss: 1.552494\n",
            "Train Epoch: 8 [36000/60000 (60%)]\tLoss: 1.549889\n",
            "Train Epoch: 8 [38000/60000 (63%)]\tLoss: 1.499735\n",
            "Train Epoch: 8 [40000/60000 (67%)]\tLoss: 1.550795\n",
            "Train Epoch: 8 [42000/60000 (70%)]\tLoss: 1.537459\n",
            "Train Epoch: 8 [44000/60000 (73%)]\tLoss: 1.527341\n",
            "Train Epoch: 8 [46000/60000 (77%)]\tLoss: 1.498402\n",
            "Train Epoch: 8 [48000/60000 (80%)]\tLoss: 1.525787\n",
            "Train Epoch: 8 [50000/60000 (83%)]\tLoss: 1.487663\n",
            "Train Epoch: 8 [52000/60000 (87%)]\tLoss: 1.582220\n",
            "Train Epoch: 8 [54000/60000 (90%)]\tLoss: 1.503818\n",
            "Train Epoch: 8 [56000/60000 (93%)]\tLoss: 1.496518\n",
            "Train Epoch: 8 [58000/60000 (97%)]\tLoss: 1.525704\n",
            "\n",
            "Test set: Average loss: 0.0149, Accuracy: 9711/10000 (97%)\n",
            "\n",
            "Train Epoch: 9 [0/60000 (0%)]\tLoss: 1.530152\n",
            "Train Epoch: 9 [2000/60000 (3%)]\tLoss: 1.504783\n",
            "Train Epoch: 9 [4000/60000 (7%)]\tLoss: 1.533968\n",
            "Train Epoch: 9 [6000/60000 (10%)]\tLoss: 1.550454\n",
            "Train Epoch: 9 [8000/60000 (13%)]\tLoss: 1.530352\n",
            "Train Epoch: 9 [10000/60000 (17%)]\tLoss: 1.505912\n",
            "Train Epoch: 9 [12000/60000 (20%)]\tLoss: 1.551341\n",
            "Train Epoch: 9 [14000/60000 (23%)]\tLoss: 1.537997\n",
            "Train Epoch: 9 [16000/60000 (27%)]\tLoss: 1.556097\n",
            "Train Epoch: 9 [18000/60000 (30%)]\tLoss: 1.525089\n",
            "Train Epoch: 9 [20000/60000 (33%)]\tLoss: 1.540453\n",
            "Train Epoch: 9 [22000/60000 (37%)]\tLoss: 1.495612\n",
            "Train Epoch: 9 [24000/60000 (40%)]\tLoss: 1.530015\n",
            "Train Epoch: 9 [26000/60000 (43%)]\tLoss: 1.553347\n",
            "Train Epoch: 9 [28000/60000 (47%)]\tLoss: 1.523110\n",
            "Train Epoch: 9 [30000/60000 (50%)]\tLoss: 1.528696\n",
            "Train Epoch: 9 [32000/60000 (53%)]\tLoss: 1.518145\n",
            "Train Epoch: 9 [34000/60000 (57%)]\tLoss: 1.510656\n",
            "Train Epoch: 9 [36000/60000 (60%)]\tLoss: 1.553266\n",
            "Train Epoch: 9 [38000/60000 (63%)]\tLoss: 1.530427\n",
            "Train Epoch: 9 [40000/60000 (67%)]\tLoss: 1.520162\n",
            "Train Epoch: 9 [42000/60000 (70%)]\tLoss: 1.483264\n",
            "Train Epoch: 9 [44000/60000 (73%)]\tLoss: 1.541589\n",
            "Train Epoch: 9 [46000/60000 (77%)]\tLoss: 1.524390\n",
            "Train Epoch: 9 [48000/60000 (80%)]\tLoss: 1.523483\n",
            "Train Epoch: 9 [50000/60000 (83%)]\tLoss: 1.496195\n",
            "Train Epoch: 9 [52000/60000 (87%)]\tLoss: 1.483985\n",
            "Train Epoch: 9 [54000/60000 (90%)]\tLoss: 1.543712\n",
            "Train Epoch: 9 [56000/60000 (93%)]\tLoss: 1.532411\n",
            "Train Epoch: 9 [58000/60000 (97%)]\tLoss: 1.522226\n",
            "\n",
            "Test set: Average loss: 0.0149, Accuracy: 9743/10000 (97%)\n",
            "\n",
            "Train Epoch: 10 [0/60000 (0%)]\tLoss: 1.509405\n",
            "Train Epoch: 10 [2000/60000 (3%)]\tLoss: 1.549953\n",
            "Train Epoch: 10 [4000/60000 (7%)]\tLoss: 1.512020\n",
            "Train Epoch: 10 [6000/60000 (10%)]\tLoss: 1.517643\n",
            "Train Epoch: 10 [8000/60000 (13%)]\tLoss: 1.487281\n",
            "Train Epoch: 10 [10000/60000 (17%)]\tLoss: 1.517621\n",
            "Train Epoch: 10 [12000/60000 (20%)]\tLoss: 1.522504\n",
            "Train Epoch: 10 [14000/60000 (23%)]\tLoss: 1.509315\n",
            "Train Epoch: 10 [16000/60000 (27%)]\tLoss: 1.491681\n",
            "Train Epoch: 10 [18000/60000 (30%)]\tLoss: 1.549280\n",
            "Train Epoch: 10 [20000/60000 (33%)]\tLoss: 1.511622\n",
            "Train Epoch: 10 [22000/60000 (37%)]\tLoss: 1.515365\n",
            "Train Epoch: 10 [24000/60000 (40%)]\tLoss: 1.521650\n",
            "Train Epoch: 10 [26000/60000 (43%)]\tLoss: 1.552749\n",
            "Train Epoch: 10 [28000/60000 (47%)]\tLoss: 1.502788\n",
            "Train Epoch: 10 [30000/60000 (50%)]\tLoss: 1.529264\n",
            "Train Epoch: 10 [32000/60000 (53%)]\tLoss: 1.524014\n",
            "Train Epoch: 10 [34000/60000 (57%)]\tLoss: 1.523360\n",
            "Train Epoch: 10 [36000/60000 (60%)]\tLoss: 1.530122\n",
            "Train Epoch: 10 [38000/60000 (63%)]\tLoss: 1.544226\n",
            "Train Epoch: 10 [40000/60000 (67%)]\tLoss: 1.533090\n",
            "Train Epoch: 10 [42000/60000 (70%)]\tLoss: 1.512133\n",
            "Train Epoch: 10 [44000/60000 (73%)]\tLoss: 1.565398\n",
            "Train Epoch: 10 [46000/60000 (77%)]\tLoss: 1.512963\n",
            "Train Epoch: 10 [48000/60000 (80%)]\tLoss: 1.544729\n",
            "Train Epoch: 10 [50000/60000 (83%)]\tLoss: 1.522958\n",
            "Train Epoch: 10 [52000/60000 (87%)]\tLoss: 1.500517\n",
            "Train Epoch: 10 [54000/60000 (90%)]\tLoss: 1.474129\n",
            "Train Epoch: 10 [56000/60000 (93%)]\tLoss: 1.524017\n",
            "Train Epoch: 10 [58000/60000 (97%)]\tLoss: 1.501874\n",
            "\n",
            "Test set: Average loss: 0.0149, Accuracy: 9745/10000 (97%)\n",
            "\n"
          ]
        }
      ]
    },
    {
      "cell_type": "code",
      "source": [
        "import matplotlib.pyplot as plt\n",
        "import numpy as np\n",
        "data, target = test_data[0]\n",
        "data = data.unsqueeze(0).to(device)\n",
        "output = model(data)\n",
        "prediction = output.argmax(dim =1 , keepdim=True)\n",
        "print(f'Prediction: {prediction}')\n",
        "image = data.squeeze(0).squeeze(0).cpu().numpy()\n",
        "plt.imshow(image, cmap='gray')\n",
        "plt.show()"
      ],
      "metadata": {
        "colab": {
          "base_uri": "https://localhost:8080/",
          "height": 504
        },
        "id": "_GjPxWgPx7kV",
        "outputId": "34c68400-6dd8-4dbb-daff-c5433f334df8"
      },
      "execution_count": 46,
      "outputs": [
        {
          "output_type": "stream",
          "name": "stdout",
          "text": [
            "Prediction: tensor([[7]])\n"
          ]
        },
        {
          "output_type": "stream",
          "name": "stderr",
          "text": [
            "<ipython-input-36-2032d6ead198>:25: UserWarning: Implicit dimension choice for softmax has been deprecated. Change the call to include dim=X as an argument.\n",
            "  return F.softmax(x)\n"
          ]
        },
        {
          "output_type": "display_data",
          "data": {
            "text/plain": [
              "<Figure size 640x480 with 1 Axes>"
            ],
            "image/png": "[encoded data removed]"
          },
          "metadata": {}
        }
      ]
    }
  ]
}